{
 "cells": [
  {
   "cell_type": "code",
   "execution_count": 49,
   "metadata": {},
   "outputs": [
    {
     "data": {
      "text/plain": [
       "True"
      ]
     },
     "execution_count": 49,
     "metadata": {},
     "output_type": "execute_result"
    }
   ],
   "source": [
    "from langchain.llms import OpenAI\n",
    "from langchain.embeddings import OpenAIEmbeddings\n",
    "from langchain.prompts import PromptTemplate\n",
    "from langchain.chains import LLMChain\n",
    "from langchain.chains import SequentialChain\n",
    "from tqdm import trange\n",
    "import json\n",
    "from pprint import pprint\n",
    "\n",
    "# import python-dotenv and use it to set OPENAI_API_KEY as an environment variable\n",
    "from dotenv import load_dotenv\n",
    "load_dotenv()"
   ]
  },
  {
   "cell_type": "code",
   "execution_count": 3,
   "metadata": {},
   "outputs": [],
   "source": []
  },
  {
   "cell_type": "code",
   "execution_count": 83,
   "metadata": {},
   "outputs": [],
   "source": [
    "acrostic_generator_prompt = PromptTemplate(\n",
    "    input_variables=[\"original_text\", \"acrostic_phrase\", \"rewritten_text\", \"current_starting_letter\"],\n",
    "    template=\"\"\"\n",
    "You are an acrostic generating AI. I will give you some text and an acrostic phrase. Your job is to rewrite the text so that the first letter in each sentence spells out the acrostic phrase, while still preserving the meaning of the original text.\n",
    "\n",
    "We'll do one sentence at a time. I'll give you the first letter of the new sentence, and your job will be to write a new sentence that starts with that letter. Then I'll check your work. If it looks good, I'll add it to the rewritten text and we'll move on to the next sentence. If not, I'll ask you to try again. \n",
    "\n",
    "Original text: \"{original_text}\"\n",
    "Acrostic phrase: \"{acrostic_phrase}\"\n",
    "Rewritten text so far: \"{rewritten_text}\"\n",
    "Starting letter for the next sentence: {current_starting_letter}\n",
    "\n",
    "Now provide your answer. Remember that the first word must begin with the letter {current_starting_letter}.\n",
    "\"\"\"\n",
    ")"
   ]
  },
  {
   "cell_type": "code",
   "execution_count": 84,
   "metadata": {},
   "outputs": [],
   "source": [
    "acrostic_evaluator_prompt = PromptTemplate(\n",
    "    input_variables=[\n",
    "        \"original_text\", \n",
    "        \"acrostic_phrase\", \n",
    "        \"rewritten_text\", \n",
    "        \"current_starting_letter\",\n",
    "        \"options\",\n",
    "        ],\n",
    "    template=\"\"\"\n",
    "You are a helper to an acrostic generating AI named AGA. \n",
    "\n",
    "I gave AGA instructions to rewrite some text so that the first letter in each sentence spells out an acrostic phrase, while still preserving the meaning of the original text.\n",
    "AGA writes one sentence at a time and makes several guesses. Your job is to look at AGA's guesses and pick which one is the best.\n",
    "A good sentence should start with the letter {current_starting_letter} and should also put us on track to end up with a rewritten text that captures the meaning of the original text while also sounding natural.\n",
    "\n",
    "These are the inputs I gave AGA:\n",
    "Original text: \"{original_text}\"\n",
    "Acrostic phrase: \"{acrostic_phrase}\"\n",
    "Rewritten text so far: \"{rewritten_text}\"\n",
    "Starting letter for the next sentence: {current_starting_letter}\n",
    "\n",
    "Now I'll give you AGA's attempts in multiple choice format. Your job is to pick the best one. If none of them look good, you can also indicate that and AGA will try again.\n",
    "\n",
    "Provide your answer in the following format:\n",
    "{{\"selected_option\": 1}}\n",
    "\n",
    "Here are your options:\n",
    "{options}\n",
    "\"\"\"\n",
    ")"
   ]
  },
  {
   "cell_type": "code",
   "execution_count": 85,
   "metadata": {},
   "outputs": [],
   "source": [
    "def clean_output(s):\n",
    "    s = s.strip()\n",
    "    # if there is more than one sentence, keep only the first one\n",
    "    # (this is a hack to deal with the fact that the prompt is not always followed)\n",
    "    # cut anything after a sentence ending punctuation, but keep the punctuation itself\n",
    "    if '.' in s:\n",
    "        s = s[:s.index('.')+1]\n",
    "    elif '?' in s:\n",
    "        s = s[:s.index('?')+1]\n",
    "    elif '!' in s:\n",
    "        s = s[:s.index('!')+1]\n",
    "    return s\n",
    "    \n",
    "    # reformat the outputs to be a single string containing a numbered list of sentences, one per line\n",
    "def outputs_to_multiple_choice(outputs):\n",
    "    output_string = \"\"\n",
    "    for i, output in enumerate(outputs):\n",
    "        output_string += f\"{i+1}. {output['cleaned_new_sentence']}\\n\"\n",
    "    output_string += f'{len(outputs)+1}. None of these look good. AGA, try again.'\n",
    "    return output_string\n",
    "\n",
    "def get_selection_from_evaluator_output(output):\n",
    "    try:\n",
    "        return int(json.loads(output['evaluator_output'])['selected_option'])\n",
    "    except:\n",
    "        return output"
   ]
  },
  {
   "cell_type": "code",
   "execution_count": 100,
   "metadata": {},
   "outputs": [],
   "source": [
    "def generate_options(\n",
    "    next_sentence_chain, \n",
    "    original_text, \n",
    "    acrostic_phrase, \n",
    "    rewritten_text, \n",
    "    current_starting_letter,\n",
    "    n_attempts:int=5,\n",
    "    ):\n",
    "    outputs = []\n",
    "    inputs = dict(\n",
    "        original_text=original_text,\n",
    "        acrostic_phrase=acrostic_phrase,\n",
    "        rewritten_text=rewritten_text,\n",
    "        current_starting_letter=current_starting_letter,)\n",
    "    for i in trange(n_attempts):\n",
    "        output = next_sentence_chain(\n",
    "            inputs=inputs\n",
    "            )\n",
    "        output['cleaned_new_sentence'] = clean_output(output['new_sentence'])\n",
    "        outputs.append(output)\n",
    "        \n",
    "    options = outputs_to_multiple_choice(outputs)\n",
    "    n_options = len(outputs)\n",
    "    return outputs, options, n_options\n",
    "\n",
    "\n",
    "def evaluate_options(\n",
    "    acrostic_evaluator_chain,\n",
    "    original_text,\n",
    "    acrostic_phrase,\n",
    "    rewritten_text,\n",
    "    current_starting_letter,\n",
    "    options,\n",
    "    ):\n",
    "    inputs = {\n",
    "            'original_text': original_text,\n",
    "            'acrostic_phrase': acrostic_phrase,\n",
    "            'rewritten_text': rewritten_text,\n",
    "            'current_starting_letter': current_starting_letter,\n",
    "            'options': options\n",
    "        }\n",
    "    evaluator_output = acrostic_evaluator_chain(inputs=inputs)\n",
    "    evaluator_output['n_options'] = n_options\n",
    "    evaluator_output['evaluator_selection'] = get_selection_from_evaluator_output(evaluator_output)\n",
    "    return evaluator_output"
   ]
  },
  {
   "cell_type": "code",
   "execution_count": 113,
   "metadata": {},
   "outputs": [],
   "source": [
    "def gen_and_evaluate(\n",
    "    next_sentence_chain, \n",
    "    acrostic_evaluator_chain,\n",
    "    original_text,\n",
    "    acrostic_phrase,\n",
    "    rewritten_text,\n",
    "    current_starting_letter,\n",
    "    n_attempts:int=5,\n",
    "    ):\n",
    "    outputs, options, n_options = generate_options(\n",
    "        next_sentence_chain=next_sentence_chain, \n",
    "        original_text=original_text,\n",
    "        acrostic_phrase=acrostic_phrase, \n",
    "        rewritten_text=rewritten_text,\n",
    "        current_starting_letter=current_starting_letter,\n",
    "        n_attempts=n_attempts,\n",
    "        )\n",
    "    evaluator_output = evaluate_options(\n",
    "        acrostic_evaluator_chain=acrostic_evaluator_chain,\n",
    "        original_text=original_text,\n",
    "        acrostic_phrase=acrostic_phrase,\n",
    "        rewritten_text=rewritten_text,\n",
    "        current_starting_letter=current_starting_letter,\n",
    "        options=options,\n",
    "        )\n",
    "    return outputs, options, n_options, evaluator_output"
   ]
  },
  {
   "cell_type": "code",
   "execution_count": 101,
   "metadata": {},
   "outputs": [
    {
     "name": "stderr",
     "output_type": "stream",
     "text": [
      "100%|██████████| 3/3 [00:05<00:00,  1.69s/it]\n"
     ]
    }
   ],
   "source": [
    "chatgpt = OpenAI(\n",
    "    model_name='gpt-3.5-turbo',\n",
    "    temperature=1,\n",
    "    )\n",
    "next_sentence_chain = LLMChain(\n",
    "    llm=chatgpt, \n",
    "    prompt=acrostic_generator_prompt,\n",
    "    output_key='new_sentence',\n",
    "    )\n",
    "\n",
    "original_text = \"On Earth, volcanoes are most often found where tectonic plates are diverging or converging, and most are found underwater. For example, a mid-ocean ridge, such as the Mid-Atlantic Ridge, has volcanoes caused by divergent tectonic plates whereas the Pacific Ring of Fire has volcanoes caused by convergent tectonic plates. Volcanoes can also form where there is stretching and thinning of the crust's plates, such as in the East African Rift and the Wells Gray-Clearwater volcanic field and Rio Grande rift in North America. Volcanism away from plate boundaries has been postulated to arise from upwelling diapirs from the core–mantle boundary, 3,000 kilometers (1,900 mi) deep in the Earth. This results in hotspot volcanism, of which the Hawaiian hotspot is an example. Volcanoes are usually not created where two tectonic plates slide past one another.\"\n",
    "acrostic_phrase = \"FOOBAR\"\n",
    "\n",
    "\n",
    "acrostic_letter_index = 0\n",
    "acrostic_letters = [letter for letter in acrostic_phrase]\n",
    "current_starting_letter = acrostic_letters[acrostic_letter_index]\n",
    "rewritten_text = \"\"\n"
   ]
  },
  {
   "cell_type": "code",
   "execution_count": 87,
   "metadata": {},
   "outputs": [],
   "source": [
    "\n",
    "acrostic_evaluator_chain = LLMChain(\n",
    "    llm=OpenAI(\n",
    "        model_name='gpt-3.5-turbo',\n",
    "        temperature=0.5,\n",
    "        ), \n",
    "    prompt=acrostic_evaluator_prompt,\n",
    "    output_key='evaluator_output',\n",
    "    )\n",
    "\n"
   ]
  },
  {
   "cell_type": "code",
   "execution_count": 114,
   "metadata": {},
   "outputs": [
    {
     "name": "stderr",
     "output_type": "stream",
     "text": [
      "100%|██████████| 3/3 [00:03<00:00,  1.25s/it]\n"
     ]
    }
   ],
   "source": [
    "outputs, options, n_options, evaluator_output = gen_and_evaluate(\n",
    "    next_sentence_chain, \n",
    "    acrostic_evaluator_chain,\n",
    "    original_text,\n",
    "    acrostic_phrase,\n",
    "    rewritten_text,\n",
    "    current_starting_letter,\n",
    "    n_attempts=3,\n",
    "    )"
   ]
  },
  {
   "cell_type": "code",
   "execution_count": 125,
   "metadata": {},
   "outputs": [],
   "source": [
    "def accept_sentence(evaluator_output):\n",
    "    try:\n",
    "        assert isinstance(evaluator_output['evaluator_selection'], int)\n",
    "    except AssertionError:\n",
    "        return False\n",
    "    n_options = evaluator_output['n_options']\n",
    "    if evaluator_output['evaluator_selection'] == n_options+1:\n",
    "        return False\n",
    "    if evaluator_output['evaluator_selection'] <= n_options:\n",
    "        return True"
   ]
  },
  {
   "cell_type": "code",
   "execution_count": 136,
   "metadata": {},
   "outputs": [
    {
     "name": "stderr",
     "output_type": "stream",
     "text": [
      "100%|██████████| 3/3 [00:04<00:00,  1.62s/it]\n"
     ]
    }
   ],
   "source": [
    "outputs, options, n_options, evaluator_output = gen_and_evaluate(\n",
    "    next_sentence_chain, \n",
    "    acrostic_evaluator_chain,\n",
    "    original_text,\n",
    "    acrostic_phrase,\n",
    "    rewritten_text,\n",
    "    current_starting_letter,\n",
    "    n_attempts=3,\n",
    "    )"
   ]
  },
  {
   "cell_type": "code",
   "execution_count": 137,
   "metadata": {},
   "outputs": [
    {
     "name": "stdout",
     "output_type": "stream",
     "text": [
      "Accepted sentence!\n"
     ]
    }
   ],
   "source": [
    "n_regenerations = 0\n",
    "\n",
    "if accept_sentence(evaluator_output):\n",
    "    rewritten_text += outputs[evaluator_output['evaluator_selection']-1]['cleaned_new_sentence'] + ' '\n",
    "    acrostic_letter_index += 1\n",
    "    current_starting_letter = acrostic_letters[acrostic_letter_index]\n",
    "    print('Accepted sentence!')\n",
    "else:\n",
    "    print('Regenerating options...')\n",
    "    n_regenerations += 1\n",
    "    outputs, options, n_options, evaluator_output = gen_and_evaluate(\n",
    "    next_sentence_chain, \n",
    "    acrostic_evaluator_chain,\n",
    "    original_text,\n",
    "    acrostic_phrase,\n",
    "    rewritten_text,\n",
    "    current_starting_letter,\n",
    "    n_attempts=3,\n",
    "    )\n"
   ]
  },
  {
   "cell_type": "code",
   "execution_count": 135,
   "metadata": {},
   "outputs": [
    {
     "name": "stdout",
     "output_type": "stream",
     "text": [
      "('For the most part, volcanoes are located in areas where tectonic plates are '\n",
      " 'either moving apart or coming together. Often these areas are found '\n",
      " 'underwater, but there are also land-based examples such as the East African '\n",
      " 'Rift. On the other hand, some of the most dramatic examples of volcanism '\n",
      " 'occur at plate boundaries. But volcanoes can also form in areas where the '\n",
      " \"crust's plates are stretched and thinned, like in the Wells Gray-Clearwater \"\n",
      " 'volcanic field and the Rio Grande rift in North America. ')\n"
     ]
    }
   ],
   "source": [
    "pprint(rewritten_text)"
   ]
  }
 ],
 "metadata": {
  "kernelspec": {
   "display_name": "stegosaurus-7SPS9kTP-py3.10",
   "language": "python",
   "name": "python3"
  },
  "language_info": {
   "codemirror_mode": {
    "name": "ipython",
    "version": 3
   },
   "file_extension": ".py",
   "mimetype": "text/x-python",
   "name": "python",
   "nbconvert_exporter": "python",
   "pygments_lexer": "ipython3",
   "version": "3.10.10"
  },
  "orig_nbformat": 4
 },
 "nbformat": 4,
 "nbformat_minor": 2
}

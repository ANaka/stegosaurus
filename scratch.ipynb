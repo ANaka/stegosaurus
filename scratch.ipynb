{
 "cells": [
  {
   "cell_type": "code",
   "execution_count": 148,
   "metadata": {},
   "outputs": [
    {
     "name": "stdout",
     "output_type": "stream",
     "text": [
      "The autoreload extension is already loaded. To reload it, use:\n",
      "  %reload_ext autoreload\n"
     ]
    }
   ],
   "source": [
    "from langchain.llms import OpenAI\n",
    "from langchain.embeddings import OpenAIEmbeddings\n",
    "from langchain.prompts import PromptTemplate\n",
    "from langchain.chains import LLMChain, TransformChain, SequentialChain\n",
    "from tqdm import trange\n",
    "import json\n",
    "from pprint import pprint\n",
    "import re\n",
    "# import python-dotenv and use it to set OPENAI_API_KEY as an environment variable\n",
    "from dotenv import load_dotenv\n",
    "load_dotenv()\n",
    "\n",
    "from stegosaurus.acrostic import acrostic_generator_prompt, acrostic_evaluator_prompt, multi_acrostic_generator_prompt\n",
    "\n",
    "%load_ext autoreload\n",
    "%autoreload 2"
   ]
  },
  {
   "cell_type": "code",
   "execution_count": null,
   "metadata": {},
   "outputs": [],
   "source": [
    "\n"
   ]
  },
  {
   "cell_type": "code",
   "execution_count": 85,
   "metadata": {},
   "outputs": [],
   "source": [
    "def clean_output(s):\n",
    "    s = s.strip()\n",
    "    # if there is more than one sentence, keep only the first one\n",
    "    # (this is a hack to deal with the fact that the prompt is not always followed)\n",
    "    # cut anything after a sentence ending punctuation, but keep the punctuation itself\n",
    "    if '.' in s:\n",
    "        s = s[:s.index('.')+1]\n",
    "    elif '?' in s:\n",
    "        s = s[:s.index('?')+1]\n",
    "    elif '!' in s:\n",
    "        s = s[:s.index('!')+1]\n",
    "    return s\n",
    "    \n",
    "    # reformat the outputs to be a single string containing a numbered list of sentences, one per line\n",
    "def outputs_to_multiple_choice(outputs):\n",
    "    output_string = \"\"\n",
    "    for i, output in enumerate(outputs):\n",
    "        output_string += f\"{i+1}. {output['cleaned_new_sentence']}\\n\"\n",
    "    output_string += f'{len(outputs)+1}. None of these look good. AGA, try again.'\n",
    "    return output_string\n",
    "\n",
    "def get_selection_from_evaluator_output(output):\n",
    "    try:\n",
    "        return int(json.loads(output['evaluator_output'])['selected_option'])\n",
    "    except:\n",
    "        return output"
   ]
  },
  {
   "cell_type": "code",
   "execution_count": 100,
   "metadata": {},
   "outputs": [],
   "source": [
    "def generate_options(\n",
    "    next_sentence_chain, \n",
    "    original_text, \n",
    "    acrostic_phrase, \n",
    "    rewritten_text, \n",
    "    current_starting_letter,\n",
    "    n_attempts:int=5,\n",
    "    ):\n",
    "    outputs = []\n",
    "    inputs = dict(\n",
    "        original_text=original_text,\n",
    "        acrostic_phrase=acrostic_phrase,\n",
    "        rewritten_text=rewritten_text,\n",
    "        current_starting_letter=current_starting_letter,)\n",
    "    for i in trange(n_attempts):\n",
    "        output = next_sentence_chain(\n",
    "            inputs=inputs\n",
    "            )\n",
    "        output['cleaned_new_sentence'] = clean_output(output['new_sentence'])\n",
    "        outputs.append(output)\n",
    "        \n",
    "    options = outputs_to_multiple_choice(outputs)\n",
    "    n_options = len(outputs)\n",
    "    return outputs, options, n_options\n",
    "\n",
    "\n",
    "def evaluate_options(\n",
    "    acrostic_evaluator_chain,\n",
    "    original_text,\n",
    "    acrostic_phrase,\n",
    "    rewritten_text,\n",
    "    current_starting_letter,\n",
    "    options,\n",
    "    ):\n",
    "    inputs = {\n",
    "            'original_text': original_text,\n",
    "            'acrostic_phrase': acrostic_phrase,\n",
    "            'rewritten_text': rewritten_text,\n",
    "            'current_starting_letter': current_starting_letter,\n",
    "            'options': options\n",
    "        }\n",
    "    evaluator_output = acrostic_evaluator_chain(inputs=inputs)\n",
    "    evaluator_output['n_options'] = n_options\n",
    "    evaluator_output['evaluator_selection'] = get_selection_from_evaluator_output(evaluator_output)\n",
    "    return evaluator_output"
   ]
  },
  {
   "cell_type": "code",
   "execution_count": 113,
   "metadata": {},
   "outputs": [],
   "source": [
    "def gen_and_evaluate(\n",
    "    next_sentence_chain, \n",
    "    acrostic_evaluator_chain,\n",
    "    original_text,\n",
    "    acrostic_phrase,\n",
    "    rewritten_text,\n",
    "    current_starting_letter,\n",
    "    n_attempts:int=5,\n",
    "    ):\n",
    "    outputs, options, n_options = generate_options(\n",
    "        next_sentence_chain=next_sentence_chain, \n",
    "        original_text=original_text,\n",
    "        acrostic_phrase=acrostic_phrase, \n",
    "        rewritten_text=rewritten_text,\n",
    "        current_starting_letter=current_starting_letter,\n",
    "        n_attempts=n_attempts,\n",
    "        )\n",
    "    evaluator_output = evaluate_options(\n",
    "        acrostic_evaluator_chain=acrostic_evaluator_chain,\n",
    "        original_text=original_text,\n",
    "        acrostic_phrase=acrostic_phrase,\n",
    "        rewritten_text=rewritten_text,\n",
    "        current_starting_letter=current_starting_letter,\n",
    "        options=options,\n",
    "        )\n",
    "    return outputs, options, n_options, evaluator_output"
   ]
  },
  {
   "cell_type": "code",
   "execution_count": 2,
   "metadata": {},
   "outputs": [],
   "source": [
    "chatgpt = OpenAI(\n",
    "    model_name='gpt-3.5-turbo',\n",
    "    temperature=1,\n",
    "    )\n",
    "next_sentence_chain = LLMChain(\n",
    "    llm=chatgpt, \n",
    "    prompt=acrostic_generator_prompt,\n",
    "    output_key='new_sentence',\n",
    "    )\n",
    "\n",
    "original_text = \"On Earth, volcanoes are most often found where tectonic plates are diverging or converging, and most are found underwater. For example, a mid-ocean ridge, such as the Mid-Atlantic Ridge, has volcanoes caused by divergent tectonic plates whereas the Pacific Ring of Fire has volcanoes caused by convergent tectonic plates. Volcanoes can also form where there is stretching and thinning of the crust's plates, such as in the East African Rift and the Wells Gray-Clearwater volcanic field and Rio Grande rift in North America. Volcanism away from plate boundaries has been postulated to arise from upwelling diapirs from the core–mantle boundary, 3,000 kilometers (1,900 mi) deep in the Earth. This results in hotspot volcanism, of which the Hawaiian hotspot is an example. Volcanoes are usually not created where two tectonic plates slide past one another.\"\n",
    "acrostic_phrase = \"FOOBAR\"\n",
    "\n",
    "\n",
    "acrostic_letter_index = 0\n",
    "acrostic_letters = [letter for letter in acrostic_phrase]\n",
    "current_starting_letter = acrostic_letters[acrostic_letter_index]\n",
    "rewritten_text = \"\"\n"
   ]
  },
  {
   "cell_type": "code",
   "execution_count": 3,
   "metadata": {},
   "outputs": [],
   "source": [
    "\n",
    "acrostic_evaluator_chain = LLMChain(\n",
    "    llm=OpenAI(\n",
    "        model_name='gpt-3.5-turbo',\n",
    "        temperature=0.5,\n",
    "        ), \n",
    "    prompt=acrostic_evaluator_prompt,\n",
    "    output_key='evaluator_output',\n",
    "    )\n",
    "\n"
   ]
  },
  {
   "cell_type": "code",
   "execution_count": 114,
   "metadata": {},
   "outputs": [
    {
     "name": "stderr",
     "output_type": "stream",
     "text": [
      "100%|██████████| 3/3 [00:03<00:00,  1.25s/it]\n"
     ]
    }
   ],
   "source": [
    "outputs, options, n_options, evaluator_output = gen_and_evaluate(\n",
    "    next_sentence_chain, \n",
    "    acrostic_evaluator_chain,\n",
    "    original_text,\n",
    "    acrostic_phrase,\n",
    "    rewritten_text,\n",
    "    current_starting_letter,\n",
    "    n_attempts=3,\n",
    "    )"
   ]
  },
  {
   "cell_type": "code",
   "execution_count": 136,
   "metadata": {},
   "outputs": [
    {
     "name": "stderr",
     "output_type": "stream",
     "text": [
      "100%|██████████| 3/3 [00:04<00:00,  1.62s/it]\n"
     ]
    }
   ],
   "source": [
    "outputs, options, n_options, evaluator_output = gen_and_evaluate(\n",
    "    next_sentence_chain, \n",
    "    acrostic_evaluator_chain,\n",
    "    original_text,\n",
    "    acrostic_phrase,\n",
    "    rewritten_text,\n",
    "    current_starting_letter,\n",
    "    n_attempts=3,\n",
    "    )"
   ]
  },
  {
   "cell_type": "code",
   "execution_count": 137,
   "metadata": {},
   "outputs": [
    {
     "name": "stdout",
     "output_type": "stream",
     "text": [
      "Accepted sentence!\n"
     ]
    }
   ],
   "source": [
    "n_regenerations = 0\n",
    "\n",
    "if accept_sentence(evaluator_output):\n",
    "    rewritten_text += outputs[evaluator_output['evaluator_selection']-1]['cleaned_new_sentence'] + ' '\n",
    "    acrostic_letter_index += 1\n",
    "    current_starting_letter = acrostic_letters[acrostic_letter_index]\n",
    "    print('Accepted sentence!')\n",
    "else:\n",
    "    print('Regenerating options...')\n",
    "    n_regenerations += 1\n",
    "    outputs, options, n_options, evaluator_output = gen_and_evaluate(\n",
    "    next_sentence_chain, \n",
    "    acrostic_evaluator_chain,\n",
    "    original_text,\n",
    "    acrostic_phrase,\n",
    "    rewritten_text,\n",
    "    current_starting_letter,\n",
    "    n_attempts=3,\n",
    "    )\n"
   ]
  },
  {
   "cell_type": "code",
   "execution_count": 135,
   "metadata": {},
   "outputs": [
    {
     "name": "stdout",
     "output_type": "stream",
     "text": [
      "('For the most part, volcanoes are located in areas where tectonic plates are '\n",
      " 'either moving apart or coming together. Often these areas are found '\n",
      " 'underwater, but there are also land-based examples such as the East African '\n",
      " 'Rift. On the other hand, some of the most dramatic examples of volcanism '\n",
      " 'occur at plate boundaries. But volcanoes can also form in areas where the '\n",
      " \"crust's plates are stretched and thinned, like in the Wells Gray-Clearwater \"\n",
      " 'volcanic field and the Rio Grande rift in North America. ')\n"
     ]
    }
   ],
   "source": [
    "pprint(rewritten_text)"
   ]
  },
  {
   "attachments": {},
   "cell_type": "markdown",
   "metadata": {},
   "source": [
    "# try multi"
   ]
  },
  {
   "cell_type": "code",
   "execution_count": 182,
   "metadata": {},
   "outputs": [],
   "source": [
    "original_text = \"On Earth, volcanoes are most often found where tectonic plates are diverging or converging, and most are found underwater. For example, a mid-ocean ridge, such as the Mid-Atlantic Ridge, has volcanoes caused by divergent tectonic plates whereas the Pacific Ring of Fire has volcanoes caused by convergent tectonic plates. Volcanoes can also form where there is stretching and thinning of the crust's plates, such as in the East African Rift and the Wells Gray-Clearwater volcanic field and Rio Grande rift in North America. Volcanism away from plate boundaries has been postulated to arise from upwelling diapirs from the core–mantle boundary, 3,000 kilometers (1,900 mi) deep in the Earth. This results in hotspot volcanism, of which the Hawaiian hotspot is an example. Volcanoes are usually not created where two tectonic plates slide past one another.\"\n",
    "acrostic_phrase = \"FOOBAR\"\n"
   ]
  },
  {
   "cell_type": "code",
   "execution_count": 183,
   "metadata": {},
   "outputs": [],
   "source": [
    "def get_current_acrostic_letter(inputs):\n",
    "    acrostic_phrase = inputs['acrostic_phrase']\n",
    "    acrostic_letter_index = inputs['acrostic_letter_index']\n",
    "    acrostic_letters = [letter for letter in acrostic_phrase]\n",
    "    current_starting_letter = acrostic_letters[acrostic_letter_index]\n",
    "    return {'current_starting_letter': current_starting_letter}\n",
    "        \n",
    "def get_current_original_sentence(inputs):\n",
    "    acrostic_letter_index = inputs['acrostic_letter_index']\n",
    "    sentences = [s for s in inputs['original_text'].split('.') if len(s) > 0]\n",
    "    return {'current_original_sentence': sentences[acrostic_letter_index]}\n",
    "\n",
    "def split_into_sentences(inputs):\n",
    "    text = inputs['generated_sentence_options']\n",
    "    sentences = re.split(r'(?<=[.?!])\\s+(?=[0-9])', text)\n",
    "    sentences = [s.strip() for s in sentences]\n",
    "    sentences = [re.sub(r'^[0-9]+\\.\\s*', '', s) for s in sentences]\n",
    "    \n",
    "    return {'generated_sentence_options_list': sentences}\n",
    "\n",
    "def generate_clean_options(inputs):\n",
    "    generated_sentence_options_list = inputs['generated_sentence_options_list']\n",
    "    output_string = \"\"\n",
    "    for i, sentence in enumerate(generated_sentence_options_list):\n",
    "        output_string += f\"{i+1}. {sentence}\\n\"\n",
    "    output_string += f'{len(generated_sentence_options_list)+1}. None of these look good. AGA, try again.'\n",
    "    return {'clean_options': output_string}\n",
    "\n",
    "def extract_selection(inputs):\n",
    "    selection = int(json.loads(inputs['evaluator_output'])['selected_option'])\n",
    "    return {'evaluator_selection': selection}\n",
    "\n",
    "def resolve_next_action(inputs):\n",
    "    \n",
    "    try:\n",
    "        assert isinstance(inputs['evaluator_selection'], int)\n",
    "    except AssertionError:\n",
    "        action = 'regenerate (error)'\n",
    "    if inputs['evaluator_selection'] == inputs['n_attempts']+1:\n",
    "        action = 'regenerate (requested)'\n",
    "    if inputs['evaluator_selection'] <= inputs['n_attempts']:\n",
    "        action = 'accept sentence'\n",
    "    return {'next_action': action}\n",
    "acrostic_letter_chain = TransformChain(\n",
    "    input_variables=['acrostic_phrase', 'acrostic_letter_index'],\n",
    "    transform=get_current_acrostic_letter,\n",
    "    output_variables=['current_starting_letter'],\n",
    ")\n",
    "\n",
    "current_original_sentence = TransformChain(\n",
    "    input_variables=['original_text', 'acrostic_letter_index'],\n",
    "    transform=get_current_original_sentence,\n",
    "    output_variables=['current_original_sentence'],\n",
    ")\n",
    "\n",
    "acrostic_generator_chain = LLMChain(\n",
    "    llm=OpenAI(\n",
    "        model_name='gpt-3.5-turbo',\n",
    "        temperature=1,\n",
    "        ), \n",
    "    prompt=multi_acrostic_generator_prompt,\n",
    "    output_key='generated_sentence_options',\n",
    "    )\n",
    "\n",
    "split_sentences_chain = TransformChain(\n",
    "    input_variables=['generated_sentence_options'],\n",
    "    transform=split_into_sentences,\n",
    "    output_variables=['generated_sentence_options_list'],\n",
    ")\n",
    "\n",
    "generate_clean_options_chain = TransformChain(\n",
    "    input_variables=['generated_sentence_options_list'],\n",
    "    transform=generate_clean_options,\n",
    "    output_variables=['clean_options'],\n",
    ")\n",
    "\n",
    "acrostic_evaluator_chain = LLMChain(\n",
    "    llm=OpenAI(model_name='gpt-3.5-turbo', temperature=0.7),\n",
    "    prompt=acrostic_evaluator_prompt,\n",
    "    output_key='evaluator_output',\n",
    ")\n",
    "\n",
    "extract_selection_chain = TransformChain(\n",
    "    input_variables=['evaluator_output'],\n",
    "    transform=extract_selection,\n",
    "    output_variables=['evaluator_selection'],\n",
    ")\n",
    "\n",
    "resolve_next_action_chain = TransformChain(\n",
    "    input_variables=['evaluator_selection', 'n_attempts'],\n",
    "    transform=resolve_next_action,\n",
    "    output_variables=['next_action'],\n",
    ")\n",
    "\n",
    "full_chain = SequentialChain(\n",
    "    chains=[\n",
    "        acrostic_letter_chain, \n",
    "        current_original_sentence,\n",
    "        acrostic_generator_chain,\n",
    "        split_sentences_chain,\n",
    "        generate_clean_options_chain,\n",
    "        acrostic_evaluator_chain,\n",
    "        extract_selection_chain,\n",
    "        resolve_next_action_chain,\n",
    "        ],\n",
    "    input_variables=[\n",
    "        'original_text', \n",
    "        'acrostic_phrase', \n",
    "        'rewritten_text', \n",
    "        'acrostic_letter_index',\n",
    "        'n_attempts',\n",
    "        ],\n",
    "    output_variables=[\n",
    "        'original_text', \n",
    "        'acrostic_phrase', \n",
    "        'rewritten_text', \n",
    "        'acrostic_letter_index',\n",
    "        'n_attempts',\n",
    "        'current_starting_letter',\n",
    "        'current_original_sentence',\n",
    "        'generated_sentence_options',\n",
    "        'generated_sentence_options_list',\n",
    "        'clean_options',\n",
    "        'evaluator_output',\n",
    "        'evaluator_selection',\n",
    "        'next_action',\n",
    "    ],\n",
    "    verbose=False\n",
    ")"
   ]
  },
  {
   "cell_type": "code",
   "execution_count": 172,
   "metadata": {},
   "outputs": [],
   "source": [
    "from pydantic import BaseModel\n",
    "from pprint import pformat\n",
    "\n",
    "class AcrosticGeneratorInputs(BaseModel):\n",
    "    original_text: str\n",
    "    acrostic_phrase: str\n",
    "    rewritten_text: str\n",
    "    acrostic_letter_index: int\n",
    "    n_attempts: int\n",
    "    \n",
    "    def __repr__(self) -> str:\n",
    "        original_sentences = self.original_text.strip().split('.')\n",
    "        original_sentences = [f'{s.strip()}.' for s in original_sentences if s != '']\n",
    "        original_text_str = '\\n'.join(original_sentences)\n",
    "        \n",
    "        rewritten_sentences = self.rewritten_text.strip().split('.')\n",
    "        rewritten_sentences = [f'{s.strip()}.' for s in rewritten_sentences if s != '']\n",
    "        rewritten_text_str = '\\n'.join(rewritten_sentences)\n",
    "        s = f\"\"\"\n",
    "AcrosticGeneratorInputs\n",
    "\n",
    "acrostic_phrase: {self.acrostic_phrase}\n",
    "\n",
    "original_text:\\n{original_text_str}\n",
    "\n",
    "acrostic_letter_index: {self.acrostic_letter_index}\n",
    "rewritten_text:\\n{rewritten_text_str}\n",
    "\n",
    "        \"\"\"\n",
    "        return s"
   ]
  },
  {
   "cell_type": "code",
   "execution_count": 184,
   "metadata": {},
   "outputs": [],
   "source": [
    "class AcrosticGenerationRoundResult(BaseModel):\n",
    "    round_number: int\n",
    "    inputs: AcrosticGeneratorInputs\n",
    "    output: dict\n",
    "    "
   ]
  },
  {
   "cell_type": "code",
   "execution_count": 192,
   "metadata": {},
   "outputs": [],
   "source": [
    "initial_inputs = AcrosticGeneratorInputs(\n",
    "    original_text = \"\"\"\n",
    "I know a yellow labrador retriever named Lily.\n",
    "She is a little over 2 years old, which is pretty much grown up.\n",
    "She likes to play fetch a lot and it's a good way to tire her out.\n",
    "She doesn't like to cuddle much, but as she gets older she likes it a bit more.\n",
    "    \"\"\",\n",
    "    acrostic_phrase = \"LILY\",\n",
    "    rewritten_text = \"\",\n",
    "    acrostic_letter_index = 0,\n",
    "    n_attempts=1,\n",
    ")\n",
    "results = []\n",
    "verbose = True\n",
    "inputs = initial_inputs.copy()"
   ]
  },
  {
   "cell_type": "code",
   "execution_count": 193,
   "metadata": {},
   "outputs": [],
   "source": [
    "current_round_number = 0\n",
    "n_regenerations_for_current_round = 0"
   ]
  },
  {
   "cell_type": "code",
   "execution_count": 197,
   "metadata": {},
   "outputs": [
    {
     "name": "stdout",
     "output_type": "stream",
     "text": [
      "Accepted sentence:\n",
      "1. Young children often ask to pet Lily when they see her walking down the street. \n",
      "('1. Young children often ask to pet Lily when they see her walking down the '\n",
      " 'street.\\n'\n",
      " '2. None of these look good. AGA, try again.')\n"
     ]
    },
    {
     "data": {
      "text/plain": [
       "\n",
       "AcrosticGeneratorInputs\n",
       "\n",
       "acrostic_phrase: LILY\n",
       "\n",
       "original_text:\n",
       "I know a yellow labrador retriever named Lily.\n",
       "She is a little over 2 years old, which is pretty much grown up.\n",
       "She likes to play fetch a lot and it's a good way to tire her out.\n",
       "She doesn't like to cuddle much, but as she gets older she likes it a bit more.\n",
       "\n",
       "acrostic_letter_index: 4\n",
       "rewritten_text:\n",
       "Lily's name suits her well because she has a light yellow coat.\n",
       "It's amazing how quickly she learned how to do tricks at such a young age.\n",
       "Lily is always excited to go on walks and explore new places.\n",
       "Young children often ask to pet Lily when they see her walking down the street.\n",
       "\n",
       "        "
      ]
     },
     "execution_count": 197,
     "metadata": {},
     "output_type": "execute_result"
    }
   ],
   "source": [
    "output = full_chain(inputs=inputs.dict())\n",
    "current_round_result = AcrosticGenerationRoundResult(\n",
    "    round_number=current_round_number,\n",
    "    inputs=inputs.copy(),\n",
    "    output=output,\n",
    ")\n",
    "results.append(current_round_result)\n",
    "\n",
    "if output['next_action'] == 'accept sentence':\n",
    "    \n",
    "    selection_idx = output['evaluator_selection'] - 1\n",
    "    accepted_sentence = output['generated_sentence_options_list'][selection_idx] + ' '\n",
    "    inputs.rewritten_text += accepted_sentence\n",
    "    print(f'Accepted sentence:\\n{output[\"evaluator_selection\"]}. {accepted_sentence}')\n",
    "    inputs.acrostic_letter_index += 1\n",
    "    n_regenerations_for_current_round = 0\n",
    "else:\n",
    "    print(f'{output[\"next_action\"]}')\n",
    "    n_regenerations_for_current_round += 1\n",
    "current_round_number += 1\n",
    "\n",
    "pprint(output['clean_options'])\n",
    "\n",
    "inputs"
   ]
  },
  {
   "cell_type": "code",
   "execution_count": null,
   "metadata": {},
   "outputs": [],
   "source": []
  }
 ],
 "metadata": {
  "kernelspec": {
   "display_name": "stegosaurus-7SPS9kTP-py3.10",
   "language": "python",
   "name": "python3"
  },
  "language_info": {
   "codemirror_mode": {
    "name": "ipython",
    "version": 3
   },
   "file_extension": ".py",
   "mimetype": "text/x-python",
   "name": "python",
   "nbconvert_exporter": "python",
   "pygments_lexer": "ipython3",
   "version": "3.10.10"
  },
  "orig_nbformat": 4
 },
 "nbformat": 4,
 "nbformat_minor": 2
}
